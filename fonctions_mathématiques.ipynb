
{
 "cells": [
  {
   "cell_type": "markdown",
   "metadata": {},
   "source": [
    "# Fonctions Mathématiques en Python
",
    "
",
    "Ce notebook présente différentes méthodes pour définir et calculer des fonctions mathématiques en Python sans utiliser de bibliothèques externes."
   ]
  },
  {
   "cell_type": "code",
   "execution_count": null,
   "metadata": {
    "id": "def1"
   },
   "outputs": [],
   "source": [
    "# 1. Définition de fonction avec `def`
",
    "def f(x):
",
    "    return x ** 2 + 3 * x + 2
",
    "
",
    "# Test de la fonction
",
    "resultat = f(5)  # 42
",
    "resultat"
   ]
  },
  {
   "cell_type": "code",
   "execution_count": null,
   "metadata": {
    "id": "lambda1"
   },
   "outputs": [],
   "source": [
    "# 2. Fonction anonyme avec `lambda`
",
    "f_lambda = lambda x: x ** 2 + 3 * x + 2
",
    "
",
    "# Test de la fonction lambda
",
    "resultat_lambda = f_lambda(5)  # 42
",
    "resultat_lambda"
   ]
  },
  {
   "cell_type": "code",
   "execution_count": null,
   "metadata": {
    "id": "nested1"
   },
   "outputs": [],
   "source": [
    "# 3. Fonctions imbriquées
",
    "def f_exterieure(x):
",
    "    def f_interieure(y):
",
    "        return y ** 2
",
    "    return f_interieure(x) + 3 * x + 2
",
    "
",
    "# Test de la fonction extérieure
",
    "resultat_exterieure = f_exterieure(5)  # 42
",
    "resultat_exterieure"
   ]
  },
  {
   "cell_type": "code",
   "execution_count": null,
   "metadata": {
    "id": "class1"
   },
   "outputs": [],
   "source": [
    "# 4. Utilisation de classes et de méthodes
",
    "class Math:
",
    "    @staticmethod
",
    "    def f(x):
",
    "        return x ** 2 + 3 * x + 2
",
    "
",
    "# Test de la méthode de la classe
",
    "resultat_class = Math.f(5)  # 42
",
    "resultat_class"
   ]
  },
  {
   "cell_type": "code",
   "execution_count": null,
   "metadata": {
    "id": "higher_order1"
   },
   "outputs": [],
   "source": [
    "# 5. Fonctions d'ordre supérieur
",
    "def applique_func(func, x):
",
    "    return func(x)
",
    "
",
    "# Test de la fonction d'ordre supérieur
",
    "resultat_higher_order = applique_func(lambda x: x ** 2 + 3 * x + 2, 5)  # 42
",
    "resultat_higher_order"
   ]
  },
  {
   "cell_type": "code",
   "execution_count": null,
   "metadata": {
    "id": "decorator1"
   },
   "outputs": [],
   "source": [
    "# 6. Utilisation de décorateurs
",
    "def decorateur(func):
",
    "    def wrapper(x):
",
    "        print("Avant d'appeler la fonction")
",
    "        return func(x)
",
    "    return wrapper
",
    "
",
    "@decorateur
",
    "def f(x):
",
    "    return x ** 2 + 3 * x + 2
",
    "
",
    "# Test de la fonction décorée
",
    "resultat_decorateur = f(5)  # Affiche "Avant d'appeler la fonction" puis 42
",
    "resultat_decorateur"
   ]
  },
  {
   "cell_type": "code",
   "execution_count": null,
   "metadata": {
    "id": "derivative1"
   },
   "outputs": [],
   "source": [
    "# 7. Calcul de dérivées manuellement
",
    "def derivee(f, x, h=1e-5):
",
    "    return (f(x + h) - f(x)) / h
",
    "
",
    "# Test de la dérivée
",
    "resultat_derivee = derivee(f, 5)  # Approximation de la dérivée de f à x = 5
",
    "resultat_derivee"
   ]
  },
  {
   "cell_type": "code",
   "execution_count": null,
   "metadata": {
    "id": "sqrt1"
   },
   "outputs": [],
   "source": [
    "# 8. Calcul de racines
",
    "def racine_carree(x):
",
    "    if x < 0:
",
    "        return None  # Pas de racine carrée pour les nombres négatifs
",
    "    r = x
",
    "    for _ in range(10):  # Méthode de Newton
",
    "        r = (r + x / r) / 2
",
    "    return r
",
    "
",
    "# Test de la racine carrée
",
    "resultat_racine = racine_carree(9)  # 3.0
",
    "resultat_racine"
   ]
  },
  {
   "cell_type": "code",
   "execution_count": null,
   "metadata": {
    "id": "polynomial1"
   },
   "outputs": [],
   "source": [
    "# 9. Calcul de valeurs de polynômes
",
    "def evaluer_polynome(coefficients, x):
",
    "    resultat = 0
",
    "    for i, coef in enumerate(coefficients):
",
    "        resultat += coef * (x ** i)
",
    "    return resultat
",
    "
",
    "# Polynomiale : 2x^2 + 3x + 1
",
    "coefficients = [1, 3, 2]  # 1 + 3x + 2x^2
",
    "resultat_polynome = evaluer_polynome(coefficients, 5)  # 66
",
    "resultat_polynome"
   ]
  }
 ],
 "metadata": {
  "kernelspec": {
   "display_name": "Python 3",
   "language": "python",
   "name": "python3"
  },
  "language_info": {
   "codemirror_mode": {
    "name": "ipython",
    "version": 3
   },
   "file_extension": ".py",
   "mimetype": "text/x-python",
   "name": "python",
   "nbconvert_exporter": "python",
   "pygments_lexer": "ipython3",
   "version": "3.8.5"
  }
 },
 "nbformat": 4,
 "nbformat_minor": 4
}
